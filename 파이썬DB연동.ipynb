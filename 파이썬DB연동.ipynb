{
 "cells": [
  {
   "cell_type": "code",
   "execution_count": 2,
   "metadata": {},
   "outputs": [
    {
     "name": "stdout",
     "output_type": "stream",
     "text": [
      "Collecting cx_Oracle\n",
      "  Downloading cx_Oracle-8.3.0-cp39-cp39-win_amd64.whl (213 kB)\n",
      "Installing collected packages: cx-Oracle\n",
      "Successfully installed cx-Oracle-8.3.0\n",
      "Note: you may need to restart the kernel to use updated packages.\n"
     ]
    }
   ],
   "source": [
    "# 오라클 연결할 수 있는거 설치\n",
    "%pip install cx_Oracle"
   ]
  },
  {
   "cell_type": "code",
   "execution_count": 1,
   "metadata": {},
   "outputs": [],
   "source": [
    "# 데이터 프레임을 위함 판다스 임포트\n",
    "import pandas as pd"
   ]
  },
  {
   "cell_type": "code",
   "execution_count": 2,
   "metadata": {},
   "outputs": [],
   "source": [
    "# 오라클과 연결해주는거 임포트\n",
    "import cx_Oracle\n",
    "import os"
   ]
  },
  {
   "cell_type": "code",
   "execution_count": 3,
   "metadata": {},
   "outputs": [],
   "source": [
    "# DB연결 해주는거\n",
    "LOCATION = r\"C:\\db\\sqldeveloper\\sqldeveloper.exe\"\n",
    "\n",
    "os.environ[\"PATH\"] = LOCATION + \";\" + os.environ[\"PATH\"]"
   ]
  },
  {
   "cell_type": "code",
   "execution_count": 4,
   "metadata": {},
   "outputs": [],
   "source": [
    "# DB 주소 적기\n",
    "connect = cx_Oracle.connect(\"suncheon_1109_5\", \"smhrd5\", \"project-db-stu.ddns.net:1524/xe\")\n",
    "cursor = connect.cursor()"
   ]
  },
  {
   "cell_type": "code",
   "execution_count": 5,
   "metadata": {},
   "outputs": [],
   "source": [
    "import pandas as pd"
   ]
  },
  {
   "cell_type": "code",
   "execution_count": 6,
   "metadata": {},
   "outputs": [],
   "source": [
    "activity = pd.read_excel(\"C:/Users/user/Desktop/전남 키워드.xlsx\")\n"
   ]
  },
  {
   "cell_type": "code",
   "execution_count": 7,
   "metadata": {},
   "outputs": [
    {
     "data": {
      "text/plain": [
       "'＂2022년＂ 가족뮤지컬 호두까기인형 - 광양'"
      ]
     },
     "execution_count": 7,
     "metadata": {},
     "output_type": "execute_result"
    }
   ],
   "source": [
    "activity.values[0,0]"
   ]
  },
  {
   "cell_type": "code",
   "execution_count": 8,
   "metadata": {},
   "outputs": [
    {
     "data": {
      "text/html": [
       "<div>\n",
       "<style scoped>\n",
       "    .dataframe tbody tr th:only-of-type {\n",
       "        vertical-align: middle;\n",
       "    }\n",
       "\n",
       "    .dataframe tbody tr th {\n",
       "        vertical-align: top;\n",
       "    }\n",
       "\n",
       "    .dataframe thead th {\n",
       "        text-align: right;\n",
       "    }\n",
       "</style>\n",
       "<table border=\"1\" class=\"dataframe\">\n",
       "  <thead>\n",
       "    <tr style=\"text-align: right;\">\n",
       "      <th></th>\n",
       "      <th>ACTIVITY_TITLE</th>\n",
       "      <th>ACTIVITY_PIC</th>\n",
       "      <th>ACTIVITY_AD</th>\n",
       "      <th>START_DATEFINISH_DATE</th>\n",
       "      <th>Unnamed: 4</th>\n",
       "      <th>ACTIVITY_TYPE</th>\n",
       "      <th>REGION_TYPE</th>\n",
       "      <th>ACTIVITY_PLACE</th>\n",
       "      <th>KEY_NO1</th>\n",
       "      <th>KEY_NO2</th>\n",
       "      <th>KEY_NO3</th>\n",
       "      <th>KEY_NO4</th>\n",
       "      <th>KEY_NO5</th>\n",
       "      <th>Unnamed: 13</th>\n",
       "      <th>ACTIVITY_AGE</th>\n",
       "      <th>FAVOR_ADD</th>\n",
       "      <th>CONTENTS</th>\n",
       "    </tr>\n",
       "  </thead>\n",
       "  <tbody>\n",
       "    <tr>\n",
       "      <th>0</th>\n",
       "      <td>＂2022년＂ 가족뮤지컬 호두까기인형 - 광양</td>\n",
       "      <td>http://ticketimage.interpark.com/rz/image/play...</td>\n",
       "      <td>http://ticket.interpark.com/TIKI/Main/TikiGood...</td>\n",
       "      <td>2022.12.25</td>\n",
       "      <td>2022.12.25</td>\n",
       "      <td>1</td>\n",
       "      <td>100</td>\n",
       "      <td>광양시문화예술회관 대공연장</td>\n",
       "      <td>어린이</td>\n",
       "      <td>관람</td>\n",
       "      <td>연말</td>\n",
       "      <td>동화</td>\n",
       "      <td>실내</td>\n",
       "      <td>관람연령</td>\n",
       "      <td>전체관람가</td>\n",
       "      <td>0</td>\n",
       "      <td>https://ticketimage.interpark.com/Play/image/e...</td>\n",
       "    </tr>\n",
       "    <tr>\n",
       "      <th>1</th>\n",
       "      <td>［여수］싱어롱 콘서트 뮤지컬 ‘Live Show’ 〈무지개 물고기〉</td>\n",
       "      <td>http://ticketimage.interpark.com/rz/image/play...</td>\n",
       "      <td>http://ticket.interpark.com/TIKI/Main/TikiGood...</td>\n",
       "      <td>2022.12.24</td>\n",
       "      <td>2022.12.25</td>\n",
       "      <td>1</td>\n",
       "      <td>100</td>\n",
       "      <td>여수시민회관</td>\n",
       "      <td>어린이</td>\n",
       "      <td>관람</td>\n",
       "      <td>주말</td>\n",
       "      <td>감동</td>\n",
       "      <td>실내</td>\n",
       "      <td>관람연령</td>\n",
       "      <td>24개월이상 관람가능</td>\n",
       "      <td>0</td>\n",
       "      <td>https://ticketimage.interpark.com/Play/image/e...</td>\n",
       "    </tr>\n",
       "    <tr>\n",
       "      <th>2</th>\n",
       "      <td>2022년 특선가족뮤지컬 “신데렐라” - 목포</td>\n",
       "      <td>http://ticketimage.interpark.com/rz/image/play...</td>\n",
       "      <td>http://ticket.interpark.com/TIKI/Main/TikiGood...</td>\n",
       "      <td>2022.12.25</td>\n",
       "      <td>2022.12.25</td>\n",
       "      <td>1</td>\n",
       "      <td>100</td>\n",
       "      <td>목포문화예술회관</td>\n",
       "      <td>어린이</td>\n",
       "      <td>관람</td>\n",
       "      <td>주말</td>\n",
       "      <td>동화</td>\n",
       "      <td>실내</td>\n",
       "      <td>관람연령</td>\n",
       "      <td>24개월이상 관람가능</td>\n",
       "      <td>0</td>\n",
       "      <td>https://ticketimage.interpark.com/Play/image/e...</td>\n",
       "    </tr>\n",
       "    <tr>\n",
       "      <th>3</th>\n",
       "      <td>2022년 특선가족뮤지컬 “아기돼지삼형제” - 목포</td>\n",
       "      <td>http://ticketimage.interpark.com/rz/image/play...</td>\n",
       "      <td>http://ticket.interpark.com/TIKI/Main/TikiGood...</td>\n",
       "      <td>2022.12.03</td>\n",
       "      <td>2022.12.03</td>\n",
       "      <td>1</td>\n",
       "      <td>100</td>\n",
       "      <td>목포시민문화체육센터 소공연장</td>\n",
       "      <td>어린이</td>\n",
       "      <td>관람</td>\n",
       "      <td>참여</td>\n",
       "      <td>동화</td>\n",
       "      <td>실내</td>\n",
       "      <td>관람연령</td>\n",
       "      <td>24개월이상 관람가능</td>\n",
       "      <td>0</td>\n",
       "      <td>https://ticketimage.interpark.com/Play/image/e...</td>\n",
       "    </tr>\n",
       "    <tr>\n",
       "      <th>4</th>\n",
       "      <td>2022년 특선가족뮤지컬＂아기돼지삼형제＂-순천</td>\n",
       "      <td>http://ticketimage.interpark.com/rz/image/play...</td>\n",
       "      <td>http://ticket.interpark.com/TIKI/Main/TikiGood...</td>\n",
       "      <td>2022.12.18</td>\n",
       "      <td>2022.12.18</td>\n",
       "      <td>1</td>\n",
       "      <td>100</td>\n",
       "      <td>순천문화예술회관 대극장</td>\n",
       "      <td>어린이</td>\n",
       "      <td>관람</td>\n",
       "      <td>참여</td>\n",
       "      <td>동화</td>\n",
       "      <td>실내</td>\n",
       "      <td>관람연령</td>\n",
       "      <td>24개월이상 관람가능</td>\n",
       "      <td>0</td>\n",
       "      <td>https://ticketimage.interpark.com/Play/image/e...</td>\n",
       "    </tr>\n",
       "  </tbody>\n",
       "</table>\n",
       "</div>"
      ],
      "text/plain": [
       "                          ACTIVITY_TITLE  \\\n",
       "0              ＂2022년＂ 가족뮤지컬 호두까기인형 - 광양   \n",
       "1  ［여수］싱어롱 콘서트 뮤지컬 ‘Live Show’ 〈무지개 물고기〉   \n",
       "2              2022년 특선가족뮤지컬 “신데렐라” - 목포   \n",
       "3           2022년 특선가족뮤지컬 “아기돼지삼형제” - 목포   \n",
       "4              2022년 특선가족뮤지컬＂아기돼지삼형제＂-순천   \n",
       "\n",
       "                                        ACTIVITY_PIC  \\\n",
       "0  http://ticketimage.interpark.com/rz/image/play...   \n",
       "1  http://ticketimage.interpark.com/rz/image/play...   \n",
       "2  http://ticketimage.interpark.com/rz/image/play...   \n",
       "3  http://ticketimage.interpark.com/rz/image/play...   \n",
       "4  http://ticketimage.interpark.com/rz/image/play...   \n",
       "\n",
       "                                         ACTIVITY_AD START_DATEFINISH_DATE  \\\n",
       "0  http://ticket.interpark.com/TIKI/Main/TikiGood...            2022.12.25   \n",
       "1  http://ticket.interpark.com/TIKI/Main/TikiGood...            2022.12.24   \n",
       "2  http://ticket.interpark.com/TIKI/Main/TikiGood...            2022.12.25   \n",
       "3  http://ticket.interpark.com/TIKI/Main/TikiGood...            2022.12.03   \n",
       "4  http://ticket.interpark.com/TIKI/Main/TikiGood...            2022.12.18   \n",
       "\n",
       "   Unnamed: 4  ACTIVITY_TYPE  REGION_TYPE   ACTIVITY_PLACE KEY_NO1 KEY_NO2  \\\n",
       "0  2022.12.25              1          100   광양시문화예술회관 대공연장     어린이      관람   \n",
       "1  2022.12.25              1          100           여수시민회관     어린이      관람   \n",
       "2  2022.12.25              1          100         목포문화예술회관     어린이      관람   \n",
       "3  2022.12.03              1          100  목포시민문화체육센터 소공연장     어린이      관람   \n",
       "4  2022.12.18              1          100     순천문화예술회관 대극장     어린이      관람   \n",
       "\n",
       "  KEY_NO3 KEY_NO4 KEY_NO5 Unnamed: 13 ACTIVITY_AGE  FAVOR_ADD  \\\n",
       "0      연말     동화       실내        관람연령        전체관람가          0   \n",
       "1      주말      감동      실내        관람연령  24개월이상 관람가능          0   \n",
       "2      주말      동화      실내        관람연령  24개월이상 관람가능          0   \n",
       "3      참여      동화      실내        관람연령  24개월이상 관람가능          0   \n",
       "4      참여      동화      실내        관람연령  24개월이상 관람가능          0   \n",
       "\n",
       "                                            CONTENTS  \n",
       "0  https://ticketimage.interpark.com/Play/image/e...  \n",
       "1  https://ticketimage.interpark.com/Play/image/e...  \n",
       "2  https://ticketimage.interpark.com/Play/image/e...  \n",
       "3  https://ticketimage.interpark.com/Play/image/e...  \n",
       "4  https://ticketimage.interpark.com/Play/image/e...  "
      ]
     },
     "execution_count": 8,
     "metadata": {},
     "output_type": "execute_result"
    }
   ],
   "source": [
    "activity.head()"
   ]
  },
  {
   "cell_type": "code",
   "execution_count": 9,
   "metadata": {},
   "outputs": [],
   "source": [
    "for i in range(0, len(activity)):\n",
    "    \n",
    "    activity_info = []\n",
    "    activity_info = activity.values[i,0],activity.values[i,1],activity.values[i,2],activity.values[i,7],activity.values[i,3],activity.values[i,4], activity.values[i,16], activity.values[i,5],activity.values[i,6],activity.values[i,15],activity.values[i,8],activity.values[i,9],activity.values[i,10],activity.values[i,11],activity.values[i,12],activity.values[i,14]\n",
    "    cursor.executemany(\"insert into activity_info (ACTIVITY_NO, ACTIVITY_TITLE, ACTIVITY_PIC, ACTIVITY_AD, ACTIVITY_PLACE, START_DATE, FINISH_DATE, CONTENTS, ACTIVITY_TYPE, REGION_TYPE,FAVOR_ADD, KEY_NO1, KEY_NO2, KEY_NO3, KEY_NO4, KEY_NO5, ACTIVITY_AGE) values(PLUS_SEQ.NEXTVAL,:1,:2,:3,:4,:5,:6,:7,:8,:9,:10,:11,:12,:13,:14,:15,:16)\", [(activity_info)])"
   ]
  },
  {
   "cell_type": "code",
   "execution_count": 10,
   "metadata": {},
   "outputs": [],
   "source": [
    "#######################################위아래 똑같? 혹시몰라서 놔둠##########################################################################################################################################################################################################################################################################################################################\n",
    "for i in range(0, len(activity)):\n",
    "    \n",
    "    activity_info = []\n",
    "    activity_info = activity.values[i,0],activity.values[i,1],activity.values[i,2],activity.values[i,7],activity.values[i,3],activity.values[i,4],activity.values[i,16],activity.values[i,5],activity.values[i,6],activity.values[i,15],activity.values[i,8],activity.values[i,9],activity.values[i,10],activity.values[i,11],activity.values[i,12],activity.values[i,14]\n",
    "    cursor.executemany(\"insert into activity_info (ACTIVITY_NO, ACTIVITY_TITLE, ACTIVITY_PIC, ACTIVITY_AD, ACTIVITY_PLACE, START_DATE, FINISH_DATE, CONTENTS, ACTIVITY_TYPE, REGION_TYPE, FAVOR_ADD, KEY_NO1, KEY_NO2 , KEY_NO3, KEY_NO4, KEY_NO5, ACTIVITY_AGE) values(PLUS_SEQ.NEXTVAL,:1,:2,:3,:4,:5,:6,:7,:8,:9,:10,:11,:12,:13,:14,:15,:16)\",[(activity_info)])"
   ]
  },
  {
   "cell_type": "code",
   "execution_count": 81,
   "metadata": {},
   "outputs": [],
   "source": [
    "# 커밋하기\n",
    "\n",
    "connect.commit()"
   ]
  },
  {
   "cell_type": "code",
   "execution_count": 82,
   "metadata": {},
   "outputs": [],
   "source": [
    "# 연결 끊어주기\n",
    "\n",
    "cursor.close()\n",
    "connect.close()"
   ]
  },
  {
   "cell_type": "code",
   "execution_count": 12,
   "metadata": {},
   "outputs": [],
   "source": [
    "import numpy as np"
   ]
  },
  {
   "cell_type": "code",
   "execution_count": 63,
   "metadata": {},
   "outputs": [
    {
     "ename": "DatabaseError",
     "evalue": "ORA-01008: not all variables bound",
     "output_type": "error",
     "traceback": [
      "\u001b[1;31m---------------------------------------------------------------------------\u001b[0m",
      "\u001b[1;31mDatabaseError\u001b[0m                             Traceback (most recent call last)",
      "\u001b[1;32mc:\\Users\\user\\Desktop\\크롤링\\파이썬DB연동.ipynb 셀 21\u001b[0m in \u001b[0;36m<cell line: 2>\u001b[1;34m()\u001b[0m\n\u001b[0;32m      <a href='vscode-notebook-cell:/c%3A/Users/user/Desktop/%ED%81%AC%EB%A1%A4%EB%A7%81/%ED%8C%8C%EC%9D%B4%EC%8D%ACDB%EC%97%B0%EB%8F%99.ipynb#X44sZmlsZQ%3D%3D?line=5'>6</a>\u001b[0m activity_df \u001b[39m=\u001b[39m pd\u001b[39m.\u001b[39mDataFrame(activity_info)\n\u001b[0;32m      <a href='vscode-notebook-cell:/c%3A/Users/user/Desktop/%ED%81%AC%EB%A1%A4%EB%A7%81/%ED%8C%8C%EC%9D%B4%EC%8D%ACDB%EC%97%B0%EB%8F%99.ipynb#X44sZmlsZQ%3D%3D?line=6'>7</a>\u001b[0m \u001b[39m#activity_df_none = activity_df.replace({np.nan: 0})\u001b[39;00m\n\u001b[1;32m----> <a href='vscode-notebook-cell:/c%3A/Users/user/Desktop/%ED%81%AC%EB%A1%A4%EB%A7%81/%ED%8C%8C%EC%9D%B4%EC%8D%ACDB%EC%97%B0%EB%8F%99.ipynb#X44sZmlsZQ%3D%3D?line=7'>8</a>\u001b[0m cursor\u001b[39m.\u001b[39;49mexecutemany(\u001b[39m\"\u001b[39;49m\u001b[39minsert into activity_info (ACTIVITY_NO, ACTIVITY_TITLE, ACTIVITY_PIC, ACTIVITY_AD, ACTIVITY_PLACE, START_DATE, FINISH_DATE, CONTENTS) values(PLUS_SEQ.NEXTVAL,:1,:2,:3,:4,:5,:6,:7)\u001b[39;49m\u001b[39m\"\u001b[39;49m, [(activity_df_none[\u001b[39m0\u001b[39;49m:j])])\n",
      "\u001b[1;31mDatabaseError\u001b[0m: ORA-01008: not all variables bound"
     ]
    }
   ],
   "source": [
    "################################################################(nan을 none로 처리하려다 실패한 코드################################################################################################################################################################################\n",
    "for i in range(0, len(activity)):\n",
    "    for j in range(0,len(activity_df_none)):\n",
    "        activity_info = []\n",
    "        activity_info = (activity.values[i,0],activity.values[i,1],activity.values[i,2],activity.values[i,7],activity.values[i,3],activity.values[i,4],activity.values[i,16])\n",
    "        activity_df = pd.DataFrame(activity_info) \n",
    "        activity_df_none = activity_df.replace({np.nan: None})\n",
    "        cursor.executemany(\"insert into activity_info (ACTIVITY_NO, ACTIVITY_TITLE, ACTIVITY_PIC, ACTIVITY_AD, ACTIVITY_PLACE, START_DATE, FINISH_DATE, CONTENTS) values(PLUS_SEQ.NEXTVAL,:1,:2,:3,:4,:5,:6,:7)\", [(activity_df_none[0:j])])"
   ]
  },
  {
   "cell_type": "code",
   "execution_count": 36,
   "metadata": {},
   "outputs": [],
   "source": [
    "##=========================((이 아래로ex))==========================\n",
    "# 임의로 만들어본거\n",
    "# 여기에 파일 불러와서 리스트로 만들어서 넣으면 될듯\n",
    "rows = [(28, 28),(29, 29)]"
   ]
  },
  {
   "cell_type": "code",
   "execution_count": null,
   "metadata": {},
   "outputs": [],
   "source": [
    "cursor.executemany(\"insert into key_info (key_no, keyword) values (:1, :2)\", )"
   ]
  },
  {
   "cell_type": "code",
   "execution_count": 41,
   "metadata": {},
   "outputs": [],
   "source": [
    "# sql 구문 적고 값 적기, value 개수가 들어가는 테이블의 value 개수와 맞아야함\n",
    "\n",
    "cursor.executemany(\"insert into key_info (key_no, keyword) values (:1, :2)\", rows)\n"
   ]
  },
  {
   "cell_type": "code",
   "execution_count": null,
   "metadata": {},
   "outputs": [],
   "source": [
    "# 데이터프레임으로 불러오기\n",
    "df=pd.real_sql(\" sql 구문 \" , con = connect) \n",
    "print(df)"
   ]
  },
  {
   "cell_type": "code",
   "execution_count": 43,
   "metadata": {},
   "outputs": [],
   "source": [
    "# 임의로 해보기2\n",
    "\n",
    "rows1 = [(10, \"asdf\",\"1234\",\"1234\",\"1234\",1,2,3)]"
   ]
  },
  {
   "cell_type": "code",
   "execution_count": 52,
   "metadata": {},
   "outputs": [],
   "source": [
    "# 임의로 해보기2\n",
    "\n",
    "cursor.executemany(\"insert into user_info(USER_NO, ID,PW,NAME,MBTI,KEY_NO1,KEY_NO2,KEY_NO3) values (:1, :2, :3, :4, :5, :6, :7, :8)\", rows1)"
   ]
  },
  {
   "cell_type": "code",
   "execution_count": 53,
   "metadata": {},
   "outputs": [],
   "source": [
    "# 임의로 해보기2\n",
    "\n",
    "connect.commit()\n",
    "cursor.close()\n",
    "connect.close()"
   ]
  },
  {
   "cell_type": "code",
   "execution_count": null,
   "metadata": {},
   "outputs": [],
   "source": []
  }
 ],
 "metadata": {
  "kernelspec": {
   "display_name": "Python 3 (ipykernel)",
   "language": "python",
   "name": "python3"
  },
  "language_info": {
   "codemirror_mode": {
    "name": "ipython",
    "version": 3
   },
   "file_extension": ".py",
   "mimetype": "text/x-python",
   "name": "python",
   "nbconvert_exporter": "python",
   "pygments_lexer": "ipython3",
   "version": "3.9.12"
  },
  "orig_nbformat": 4
 },
 "nbformat": 4,
 "nbformat_minor": 2
}
